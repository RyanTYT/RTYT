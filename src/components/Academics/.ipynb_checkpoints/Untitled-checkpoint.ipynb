{
 "cells": [
  {
   "cell_type": "code",
   "execution_count": 22,
   "id": "891d1c10-8b3b-474d-b8a3-e3485bed9a64",
   "metadata": {
    "tags": []
   },
   "outputs": [],
   "source": [
    "import pandas as pd\n",
    "import numpy as np\n",
    "import json\n",
    "\n",
    "dictTable = pd.read_csv('nusMods.csv')\n",
    "dictTable = dictTable.fillna(-1)\n",
    "dictTable.columns = ['name', 'moduleCode', 'semester', 'title', 'description', 'review', 'grade', 'type', 'moduleCredit']\n",
    "dictTable = dictTable.T.to_dict()\n",
    "dictArr = [i for i in dictTable.values()]\n",
    "for i in dictArr:\n",
    "    for j in i:\n",
    "        if i[j] == -1:\n",
    "            i[j] = None\n",
    "final = {'modules': dictArr}\n",
    "\n",
    "with open('nusMods.json', 'w') as nusMods:\n",
    "    json.dump(final, nusMods)"
   ]
  }
 ],
 "metadata": {
  "kernelspec": {
   "display_name": "Python 3 (ipykernel)",
   "language": "python",
   "name": "python3"
  },
  "language_info": {
   "codemirror_mode": {
    "name": "ipython",
    "version": 3
   },
   "file_extension": ".py",
   "mimetype": "text/x-python",
   "name": "python",
   "nbconvert_exporter": "python",
   "pygments_lexer": "ipython3",
   "version": "3.11.6"
  }
 },
 "nbformat": 4,
 "nbformat_minor": 5
}
